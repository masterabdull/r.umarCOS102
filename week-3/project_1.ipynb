{
 "cells": [
  {
   "cell_type": "code",
   "execution_count": null,
   "metadata": {},
   "outputs": [],
   "source": [
    "import pandas as pd\n",
    "\n",
    "# Define the data\n",
    "students = [\n",
    "    (\"Jessica\", 17, 5.6, 80), (\"Somto\", 16, 5.0, 85), (\"Edith\", 17, 5.4, 70),\n",
    "    (\"Liza\", 18, 5.9, 76), (\"Madonna\", 18, 5.5, 66), (\"Waje\", 20, 5.6, 87),\n",
    "    (\"Tola\", 19, 6.1, 95), (\"Aisha\", 17, 5.0, 50), (\"Latifa\", 17, 5.7, 49),\n",
    "    (\"Evelyn\", 17, 5.5, 55),\n",
    "    \n",
    "    (\"Chinedu\", 19, 5.7, 74), (\"Liam\", 16, 5.9, 87), (\"Wale\", 18, 5.8, 75),\n",
    "    (\"Gbenga\", 17, 6.1, 68), (\"Abiola\", 20, 5.5, 66), (\"Kola\", 19, 5.6, 78),\n",
    "    (\"Kunle\", 16, 5.1, 87), (\"George\", 18, 5.4, 98), (\"Thomas\", 17, 8.5, 54),\n",
    "    (\"Wesley\", 19, 5.7, 60)\n",
    "]\n",
    "\n",
    "# Create DataFrame\n",
    "df = pd.DataFrame(students, columns=[\"Name\", \"Age\", \"Height\", \"Score\"])\n",
    "\n",
    "# Display table\n",
    "print(df)\n"
   ]
  }
 ],
 "metadata": {
  "language_info": {
   "name": "python"
  }
 },
 "nbformat": 4,
 "nbformat_minor": 2
}
