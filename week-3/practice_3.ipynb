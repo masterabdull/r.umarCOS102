{
 "cells": [
  {
   "cell_type": "code",
   "execution_count": null,
   "metadata": {},
   "outputs": [],
   "source": [
    " #COUPE DE ESCRIVA 2023: FOOTBALL PICKS\n",
    "\n",
    "print(\"Welcome to the COUPE DE ESCRIVA 2023: FOOTBALL PICKS \\n\")\n",
    "\n",
    "captain = {'Madiba': 'Chubby Obiora-Okafor', \n",
    "           'Blue-Jays': 'Christopher Uweh', \n",
    "           'Cirok': 'Alexander', \n",
    "           'TSG Walkers': 'Ikechukwu'}\n",
    "\n",
    "goalkeepers = {'Madiba': 'Chubby Obiora-Okafor', \n",
    "               'Blue-Jays': 'Oladimeji Abaniwonda/Jeffery Awagu', \n",
    "               'Cirok': 'Timileyin Pearse/Tizuka Jeremy', \n",
    "               'TSG Walkers': 'Ayomide Ojituku'}\n",
    "\n",
    "for pick in captain:\n",
    "    print(pick, captain[pick])\n",
    "\n",
    "print(\"\\n\")\n",
    "\n",
    "for pick in goalkeepers:\n",
    "    print(pick, goalkeepers[pick])"
   ]
  }
 ],
 "metadata": {
  "language_info": {
   "name": "python"
  }
 },
 "nbformat": 4,
 "nbformat_minor": 2
}
