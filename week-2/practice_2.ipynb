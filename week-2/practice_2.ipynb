{
 "cells": [
  {
   "cell_type": "code",
   "execution_count": null,
   "metadata": {},
   "outputs": [],
   "source": [
    "# Input from user\n",
    "m = float(input(\"Enter mass in kilogram: \"))\n",
    "\n",
    "#constant value for the the speed of the light in m/s\n",
    "c = 299792458\n",
    "\n",
    "#calculating energy using Einstein's equation\n",
    "energy = m * c ** 2\n",
    "\n",
    "#Displaying the result\n",
    "print(f\"The energy eqivalent to {m} kg of mass is {energy} joules\")"
   ]
  }
 ],
 "metadata": {
  "language_info": {
   "name": "python"
  }
 },
 "nbformat": 4,
 "nbformat_minor": 2
}
