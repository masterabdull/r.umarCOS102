{
 "cells": [
  {
   "cell_type": "code",
   "execution_count": 2,
   "metadata": {},
   "outputs": [
    {
     "name": "stdout",
     "output_type": "stream",
     "text": [
      "('Ekiti', 750, 'Oshogbo', 250, 'Akure', 500)\n",
      "500\n",
      "('Oshogbo', 250)\n",
      "(250, 'Akure', 500)\n",
      "('Abeokuta', 300, 'Ogbomoso', 'Abeokuta', 300, 'Ogbomoso', 'Abeokuta', 300, 'Ogbomoso')\n",
      "('Ekiti', 750, 'Oshogbo', 250, 'Akure', 500, 'Abeokuta', 300, 'Ogbomoso')\n"
     ]
    }
   ],
   "source": [
    "tuple = (\"Ekiti\" , 750,'Oshogbo',250,\"Akure\",500)\n",
    "s_tuple = (\"Abeokuta\",300,\"Ogbomoso\")\n",
    "\n",
    "#prints the complete tuple\n",
    "print(tuple)\n",
    "\n",
    "#print last element of the tuple\n",
    "print(tuple[-1])\n",
    "\n",
    "#print ek\\lements of the tuple starting from 2nd till 3rd\n",
    "print(tuple[2:4])\n",
    "\n",
    "#print elements of the tuple starting from the 3rd element\n",
    "print(tuple[3:])\n",
    "\n",
    "#prints the contents of the tupke twice\n",
    "print(s_tuple * 3)\n",
    "\n",
    "#print concatenated tuples\n",
    "print(tuple + s_tuple)"
   ]
  }
 ],
 "metadata": {
  "kernelspec": {
   "display_name": "base",
   "language": "python",
   "name": "python3"
  },
  "language_info": {
   "codemirror_mode": {
    "name": "ipython",
    "version": 3
   },
   "file_extension": ".py",
   "mimetype": "text/x-python",
   "name": "python",
   "nbconvert_exporter": "python",
   "pygments_lexer": "ipython3",
   "version": "3.12.7"
  }
 },
 "nbformat": 4,
 "nbformat_minor": 2
}
