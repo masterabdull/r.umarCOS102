{
 "cells": [
  {
   "cell_type": "code",
   "execution_count": null,
   "metadata": {},
   "outputs": [],
   "source": [
    "ist = [ 'Anaconda ',786 , 2.23, 'Jupyter', 70.2 ]\n",
    "shortlist = [321 , 'Python']\n",
    "\n",
    "print(list)       #Prints complete list\n",
    "print(list[0])    #prints first element of the list \n",
    "print(list[1:3])  #prints elements starting from 2nd till 3rd\n",
    "print(list[2:])    #Prints elements starting from 3rd element\n",
    "print(shortlist * 2)  #prints list two times\n",
    "print(list + shortlist) #prints concatenated lists"
   ]
  }
 ],
 "metadata": {
  "language_info": {
   "name": "python"
  }
 },
 "nbformat": 4,
 "nbformat_minor": 2
}
